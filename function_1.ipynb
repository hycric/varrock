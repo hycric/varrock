{
 "cells": [
  {
   "attachments": {},
   "cell_type": "markdown",
   "metadata": {},
   "source": [
    "<font size=\"5\" face=\"Times\">Education Adoption</font>\n",
    "\n",
    "<font size=\"2\" face=\"Times\">Richard and Zayn</font>"
   ]
  },
  {
   "cell_type": "code",
   "execution_count": 26,
   "metadata": {},
   "outputs": [],
   "source": [
    "import pandas as pd\n",
    "from bs4 import BeautifulSoup"
   ]
  },
  {
   "cell_type": "code",
   "execution_count": 11,
   "metadata": {},
   "outputs": [],
   "source": [
    "\"\"\"\n",
    "Load dataset on python, convert text to lowercase and creat dicitionary to store the names of each platform\n",
    "\"\"\"\n",
    "df = pd.read_csv(\"/Users/richardhuang/Downloads/EducationTechPlatforms.csv\", header= None, names =['platform'])\n",
    "dct = df['platform'].to_dict()\n",
    "dct = {k: v.lower() for k, v in dct.items()}"
   ]
  },
  {
   "cell_type": "code",
   "execution_count": null,
   "metadata": {},
   "outputs": [],
   "source": [
    "\"\"\"\n",
    "This function detects words that are in the education platform dictionary.\n",
    "Stores the count for each word in the dictionary of the corresponding website\n",
    "\n",
    "params\n",
    "word, str:       generating by iterating through website\n",
    "result_dct, dct: created at start, sample structure: {'site 1': {'coursera': 1}}\n",
    "site, str:       word of 5k names of the schools \n",
    "\"\"\"\n",
    "\n",
    "def check(word, result_dct, site):\n",
    "    word = word.lower()\n",
    "    if word in dct:\n",
    "        if word in result_dct[site]:\n",
    "            result_dct[site][word] += 1\n",
    "        else:\n",
    "            result_dct[site][word] = 1\n",
    "    return result_dct"
   ]
  },
  {
   "cell_type": "code",
   "execution_count": null,
   "metadata": {},
   "outputs": [],
   "source": [
    "\"\"\"\n",
    "This function sums the total count of words on each site page \n",
    "and divided the sum with count of pages to get average word count per page\n",
    "\n",
    "params\n",
    "result_dct, dct: created at start, sample structure: {'site 1': {'coursera': 1}}\n",
    "k, int:          count of site pages for same school\n",
    "\"\"\"\n",
    "def evaluation(result_dct, k):\n",
    "    for c in result_dct:\n",
    "        platform_ct = sum(result_dct[c].values())\n",
    "        page_ct = k\n",
    "        avg_ct_page = platform_ct/page_ct\n",
    "    return avg_ct_page"
   ]
  }
 ],
 "metadata": {
  "kernelspec": {
   "display_name": "capstone",
   "language": "python",
   "name": "python3"
  },
  "language_info": {
   "codemirror_mode": {
    "name": "ipython",
    "version": 3
   },
   "file_extension": ".py",
   "mimetype": "text/x-python",
   "name": "python",
   "nbconvert_exporter": "python",
   "pygments_lexer": "ipython3",
   "version": "3.10.9"
  },
  "orig_nbformat": 4
 },
 "nbformat": 4,
 "nbformat_minor": 2
}
